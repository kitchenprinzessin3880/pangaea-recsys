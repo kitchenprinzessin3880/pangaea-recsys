{
 "cells": [
  {
   "cell_type": "code",
   "execution_count": 1,
   "metadata": {
    "collapsed": true
   },
   "outputs": [],
   "source": [
    "import sys\n",
    "import bz2\n",
    "from bz2 import BZ2File\n",
    "import io\n",
    "import csv\n",
    "import glob\n",
    "import pandas as pd\n",
    "from datetime import datetime\n",
    "import pytz\n",
    "import numpy as np\n",
    "import re\n",
    "from urllib import parse\n",
    "from furl import furl\n",
    "from itertools import tee\n",
    "pd.options.mode.chained_assignment = None"
   ]
  },
  {
   "cell_type": "code",
   "execution_count": 2,
   "metadata": {
    "collapsed": true
   },
   "outputs": [],
   "source": [
    "path = \"usage_source_test\"\n",
    "filename_prefix = \"doi.pangaea.de-access.\"\n",
    "file_type=\".bz2\""
   ]
  },
  {
   "cell_type": "code",
   "execution_count": 3,
   "metadata": {
    "collapsed": true
   },
   "outputs": [],
   "source": [
    "def parse_str(x):\n",
    "    \"\"\"\n",
    "    Returns the string delimited by two characters.\n",
    "    Example:`>>> parse_str('[my string]')``'my string'`\"\"\"\n",
    "    if x:\n",
    "        return x[1:-1]\n",
    "    else:\n",
    "        return x"
   ]
  },
  {
   "cell_type": "code",
   "execution_count": 4,
   "metadata": {},
   "outputs": [
    {
     "data": {
      "text/plain": [
       "'C:\\\\Users\\\\asd\\\\python-workspace\\\\pangaea-recsys\\\\usage_analysis\\\\usage_source_test'"
      ]
     },
     "execution_count": 4,
     "metadata": {},
     "output_type": "execute_result"
    }
   ],
   "source": [
    "import os\n",
    "parent_dir = os.path.dirname(os.path.dirname(os.path.abspath(os.path.realpath('__file__')))) # /home/kristina/desire-directory\n",
    "source_dir = os.path.abspath(os.path.join(parent_dir, path))\n",
    "source_dir"
   ]
  },
  {
   "cell_type": "code",
   "execution_count": 5,
   "metadata": {
    "collapsed": true
   },
   "outputs": [],
   "source": [
    "def parse_datetime(x):\n",
    "    dtime = datetime.strptime(x[1:-7],'%d/%b/%Y:%H:%M:%S')\n",
    "    dtime = dtime.date()\n",
    "    return dtime"
   ]
  },
  {
   "cell_type": "code",
   "execution_count": 6,
   "metadata": {
    "collapsed": true
   },
   "outputs": [],
   "source": [
    "#converters={'request': parse_str,'referer': parse_str,'user_agent': parse_str\n",
    "dfs = []\n",
    "for file in os.listdir(source_dir):\n",
    "    if file.startswith(filename_prefix) and file.endswith(file_type):\n",
    "        filepath = os.path.join(source_dir, file)\n",
    "        #print(filepath)\n",
    "        data = pd.read_csv(filepath, compression='bz2',encoding = 'ISO-8859-1',\n",
    "                           sep=r'\\s(?=(?:[^\"]*\"[^\"]*\")*[^\"]*$)(?![^\\[]*\\])', engine='python', header=0,\n",
    "                           usecols=[0, 3, 4, 5, 7, 8],names=['ip', 'time', 'request', 'status', 'referer', 'user_agent'],\n",
    "                          converters={\"request\": parse_str})\n",
    "        dfs.append(data)\n",
    "\n",
    "# Concatenate all data into one DataFrame\n",
    "dfmain = pd.concat(dfs, ignore_index=True)"
   ]
  },
  {
   "cell_type": "code",
   "execution_count": 7,
   "metadata": {},
   "outputs": [
    {
     "data": {
      "text/plain": [
       "(272408, 6)"
      ]
     },
     "execution_count": 7,
     "metadata": {},
     "output_type": "execute_result"
    }
   ],
   "source": [
    "dfmain.shape"
   ]
  },
  {
   "cell_type": "code",
   "execution_count": 8,
   "metadata": {},
   "outputs": [
    {
     "data": {
      "text/html": [
       "<div>\n",
       "<style>\n",
       "    .dataframe thead tr:only-child th {\n",
       "        text-align: right;\n",
       "    }\n",
       "\n",
       "    .dataframe thead th {\n",
       "        text-align: left;\n",
       "    }\n",
       "\n",
       "    .dataframe tbody tr th {\n",
       "        vertical-align: top;\n",
       "    }\n",
       "</style>\n",
       "<table border=\"1\" class=\"dataframe\">\n",
       "  <thead>\n",
       "    <tr style=\"text-align: right;\">\n",
       "      <th></th>\n",
       "      <th>ip</th>\n",
       "      <th>time</th>\n",
       "      <th>request</th>\n",
       "      <th>status</th>\n",
       "      <th>referer</th>\n",
       "      <th>user_agent</th>\n",
       "    </tr>\n",
       "  </thead>\n",
       "  <tbody>\n",
       "    <tr>\n",
       "      <th>0</th>\n",
       "      <td>134.1.2.141</td>\n",
       "      <td>[11/Jun/2012:08:34:47 +0000]</td>\n",
       "      <td>HEAD /10.1594/PANGAEA.475810 HTTP/1.1</td>\n",
       "      <td>200</td>\n",
       "      <td>\"-\"</td>\n",
       "      <td>\"Mozilla/5.0 (Windows; U; Windows NT 6.1; de; ...</td>\n",
       "    </tr>\n",
       "    <tr>\n",
       "      <th>1</th>\n",
       "      <td>134.1.2.141</td>\n",
       "      <td>[11/Jun/2012:08:34:47 +0000]</td>\n",
       "      <td>HEAD /10.1594/PANGAEA.475888 HTTP/1.1</td>\n",
       "      <td>200</td>\n",
       "      <td>\"-\"</td>\n",
       "      <td>\"Mozilla/5.0 (Windows; U; Windows NT 6.1; de; ...</td>\n",
       "    </tr>\n",
       "    <tr>\n",
       "      <th>2</th>\n",
       "      <td>134.1.2.141</td>\n",
       "      <td>[11/Jun/2012:08:34:47 +0000]</td>\n",
       "      <td>HEAD /10.1594/PANGAEA.475811 HTTP/1.1</td>\n",
       "      <td>200</td>\n",
       "      <td>\"-\"</td>\n",
       "      <td>\"Mozilla/5.0 (Windows; U; Windows NT 6.1; de; ...</td>\n",
       "    </tr>\n",
       "    <tr>\n",
       "      <th>3</th>\n",
       "      <td>134.1.2.141</td>\n",
       "      <td>[11/Jun/2012:08:34:47 +0000]</td>\n",
       "      <td>HEAD /10.1594/PANGAEA.475889 HTTP/1.1</td>\n",
       "      <td>200</td>\n",
       "      <td>\"-\"</td>\n",
       "      <td>\"Mozilla/5.0 (Windows; U; Windows NT 6.1; de; ...</td>\n",
       "    </tr>\n",
       "    <tr>\n",
       "      <th>4</th>\n",
       "      <td>134.1.2.141</td>\n",
       "      <td>[11/Jun/2012:08:34:47 +0000]</td>\n",
       "      <td>HEAD /10.1594/PANGAEA.475812 HTTP/1.1</td>\n",
       "      <td>200</td>\n",
       "      <td>\"-\"</td>\n",
       "      <td>\"Mozilla/5.0 (Windows; U; Windows NT 6.1; de; ...</td>\n",
       "    </tr>\n",
       "  </tbody>\n",
       "</table>\n",
       "</div>"
      ],
      "text/plain": [
       "            ip                          time  \\\n",
       "0  134.1.2.141  [11/Jun/2012:08:34:47 +0000]   \n",
       "1  134.1.2.141  [11/Jun/2012:08:34:47 +0000]   \n",
       "2  134.1.2.141  [11/Jun/2012:08:34:47 +0000]   \n",
       "3  134.1.2.141  [11/Jun/2012:08:34:47 +0000]   \n",
       "4  134.1.2.141  [11/Jun/2012:08:34:47 +0000]   \n",
       "\n",
       "                                 request  status referer  \\\n",
       "0  HEAD /10.1594/PANGAEA.475810 HTTP/1.1     200     \"-\"   \n",
       "1  HEAD /10.1594/PANGAEA.475888 HTTP/1.1     200     \"-\"   \n",
       "2  HEAD /10.1594/PANGAEA.475811 HTTP/1.1     200     \"-\"   \n",
       "3  HEAD /10.1594/PANGAEA.475889 HTTP/1.1     200     \"-\"   \n",
       "4  HEAD /10.1594/PANGAEA.475812 HTTP/1.1     200     \"-\"   \n",
       "\n",
       "                                          user_agent  \n",
       "0  \"Mozilla/5.0 (Windows; U; Windows NT 6.1; de; ...  \n",
       "1  \"Mozilla/5.0 (Windows; U; Windows NT 6.1; de; ...  \n",
       "2  \"Mozilla/5.0 (Windows; U; Windows NT 6.1; de; ...  \n",
       "3  \"Mozilla/5.0 (Windows; U; Windows NT 6.1; de; ...  \n",
       "4  \"Mozilla/5.0 (Windows; U; Windows NT 6.1; de; ...  "
      ]
     },
     "execution_count": 8,
     "metadata": {},
     "output_type": "execute_result"
    }
   ],
   "source": [
    "dfmain.head()"
   ]
  },
  {
   "cell_type": "code",
   "execution_count": 9,
   "metadata": {},
   "outputs": [
    {
     "name": "stdout",
     "output_type": "stream",
     "text": [
      "<class 'pandas.core.frame.DataFrame'>\n",
      "RangeIndex: 272408 entries, 0 to 272407\n",
      "Data columns (total 6 columns):\n",
      "ip            272408 non-null object\n",
      "time          272408 non-null object\n",
      "request       272408 non-null object\n",
      "status        272408 non-null int64\n",
      "referer       272408 non-null object\n",
      "user_agent    272408 non-null object\n",
      "dtypes: int64(1), object(5)\n",
      "memory usage: 12.5+ MB\n"
     ]
    }
   ],
   "source": [
    "dfmain.info()"
   ]
  },
  {
   "cell_type": "code",
   "execution_count": 10,
   "metadata": {
    "collapsed": true
   },
   "outputs": [],
   "source": [
    "#Get resource URI\n",
    "request = dfmain.request.str.split()\n",
    "#dfmain['resource'] = request.str[1]"
   ]
  },
  {
   "cell_type": "code",
   "execution_count": 11,
   "metadata": {},
   "outputs": [
    {
     "data": {
      "text/plain": [
       "(237004, 6)"
      ]
     },
     "execution_count": 11,
     "metadata": {},
     "output_type": "execute_result"
    }
   ],
   "source": [
    "#Filter out non GET and non 200 requests\n",
    "dfmain = dfmain[(request.str[0] == 'GET') & (dfmain.status == 200)]\n",
    "dfmain.shape"
   ]
  },
  {
   "cell_type": "code",
   "execution_count": 12,
   "metadata": {},
   "outputs": [
    {
     "name": "stdout",
     "output_type": "stream",
     "text": [
      "(237004, 6)\n",
      "(214982, 6)\n"
     ]
    }
   ],
   "source": [
    "#undesired resources\n",
    "dfmain = dfmain[~dfmain['request'].str.match(r'^/media|^/static|^/admin|^/robots.txt$|^/favicon.ico$')]\n",
    "print(dfmain.shape)\n",
    "#filter crawlers by User-Agent\n",
    "dfmain = dfmain[~dfmain['user_agent'].str.match(r'.*?bot|.*?spider|.*?crawler|.*?slurp', flags=re.I).fillna(False)]\n",
    "print(dfmain.shape)"
   ]
  },
  {
   "cell_type": "code",
   "execution_count": 13,
   "metadata": {},
   "outputs": [
    {
     "name": "stdout",
     "output_type": "stream",
     "text": [
      "doi\\.pangaea\\.de|www\\.pangaea\\.de|\\/search\\?\n"
     ]
    },
    {
     "data": {
      "text/html": [
       "<div>\n",
       "<style>\n",
       "    .dataframe thead tr:only-child th {\n",
       "        text-align: right;\n",
       "    }\n",
       "\n",
       "    .dataframe thead th {\n",
       "        text-align: left;\n",
       "    }\n",
       "\n",
       "    .dataframe tbody tr th {\n",
       "        vertical-align: top;\n",
       "    }\n",
       "</style>\n",
       "<table border=\"1\" class=\"dataframe\">\n",
       "  <thead>\n",
       "    <tr style=\"text-align: right;\">\n",
       "      <th></th>\n",
       "      <th>ip</th>\n",
       "      <th>time</th>\n",
       "      <th>request</th>\n",
       "      <th>status</th>\n",
       "      <th>referer</th>\n",
       "      <th>user_agent</th>\n",
       "    </tr>\n",
       "  </thead>\n",
       "  <tbody>\n",
       "    <tr>\n",
       "      <th>4832</th>\n",
       "      <td>134.1.2.141</td>\n",
       "      <td>[11/Jun/2012:08:38:00 +0000]</td>\n",
       "      <td>GET /10.1594/PANGAEA.715006 HTTP/1.1</td>\n",
       "      <td>200</td>\n",
       "      <td>\"http://search.yahoo.co.jp/search?p=Bassinot+o...</td>\n",
       "      <td>\"Mozilla/5.0 (Windows NT 5.1; rv:12.0) Gecko/2...</td>\n",
       "    </tr>\n",
       "    <tr>\n",
       "      <th>4857</th>\n",
       "      <td>134.1.2.141</td>\n",
       "      <td>[11/Jun/2012:08:38:33 +0000]</td>\n",
       "      <td>GET /10.1594/PANGAEA.676969 HTTP/1.1</td>\n",
       "      <td>200</td>\n",
       "      <td>\"http://www.pangaea.de/search?q=project:BSRN+%...</td>\n",
       "      <td>\"Mozilla/5.0 (Windows NT 5.1; rv:12.0) Gecko/2...</td>\n",
       "    </tr>\n",
       "    <tr>\n",
       "      <th>4915</th>\n",
       "      <td>134.1.2.141</td>\n",
       "      <td>[11/Jun/2012:08:39:49 +0000]</td>\n",
       "      <td>GET /10.1594/PANGAEA.715006?format=zip&amp;charset...</td>\n",
       "      <td>200</td>\n",
       "      <td>\"http://doi.pangaea.de/10.1594/PANGAEA.715006\"</td>\n",
       "      <td>\"Mozilla/5.0 (Windows NT 5.1; rv:12.0) Gecko/2...</td>\n",
       "    </tr>\n",
       "    <tr>\n",
       "      <th>5462</th>\n",
       "      <td>134.1.2.141</td>\n",
       "      <td>[11/Jun/2012:08:44:32 +0000]</td>\n",
       "      <td>GET /10.1594/PANGAEA.673228 HTTP/1.1</td>\n",
       "      <td>200</td>\n",
       "      <td>\"http://www.pangaea.de/search?q=project:BSRN+%...</td>\n",
       "      <td>\"Mozilla/5.0 (Windows NT 5.1; rv:10.0.4) Gecko...</td>\n",
       "    </tr>\n",
       "    <tr>\n",
       "      <th>5526</th>\n",
       "      <td>134.1.2.141</td>\n",
       "      <td>[11/Jun/2012:08:53:08 +0000]</td>\n",
       "      <td>GET /10.1594/PANGAEA.132301 HTTP/1.1</td>\n",
       "      <td>200</td>\n",
       "      <td>\"http://www.pangaea.de/search?count=10&amp;q=prima...</td>\n",
       "      <td>\"Mozilla/5.0 (Windows NT 6.0; rv:13.0) Gecko/2...</td>\n",
       "    </tr>\n",
       "  </tbody>\n",
       "</table>\n",
       "</div>"
      ],
      "text/plain": [
       "               ip                          time  \\\n",
       "4832  134.1.2.141  [11/Jun/2012:08:38:00 +0000]   \n",
       "4857  134.1.2.141  [11/Jun/2012:08:38:33 +0000]   \n",
       "4915  134.1.2.141  [11/Jun/2012:08:39:49 +0000]   \n",
       "5462  134.1.2.141  [11/Jun/2012:08:44:32 +0000]   \n",
       "5526  134.1.2.141  [11/Jun/2012:08:53:08 +0000]   \n",
       "\n",
       "                                                request  status  \\\n",
       "4832               GET /10.1594/PANGAEA.715006 HTTP/1.1     200   \n",
       "4857               GET /10.1594/PANGAEA.676969 HTTP/1.1     200   \n",
       "4915  GET /10.1594/PANGAEA.715006?format=zip&charset...     200   \n",
       "5462               GET /10.1594/PANGAEA.673228 HTTP/1.1     200   \n",
       "5526               GET /10.1594/PANGAEA.132301 HTTP/1.1     200   \n",
       "\n",
       "                                                referer  \\\n",
       "4832  \"http://search.yahoo.co.jp/search?p=Bassinot+o...   \n",
       "4857  \"http://www.pangaea.de/search?q=project:BSRN+%...   \n",
       "4915     \"http://doi.pangaea.de/10.1594/PANGAEA.715006\"   \n",
       "5462  \"http://www.pangaea.de/search?q=project:BSRN+%...   \n",
       "5526  \"http://www.pangaea.de/search?count=10&q=prima...   \n",
       "\n",
       "                                             user_agent  \n",
       "4832  \"Mozilla/5.0 (Windows NT 5.1; rv:12.0) Gecko/2...  \n",
       "4857  \"Mozilla/5.0 (Windows NT 5.1; rv:12.0) Gecko/2...  \n",
       "4915  \"Mozilla/5.0 (Windows NT 5.1; rv:12.0) Gecko/2...  \n",
       "5462  \"Mozilla/5.0 (Windows NT 5.1; rv:10.0.4) Gecko...  \n",
       "5526  \"Mozilla/5.0 (Windows NT 6.0; rv:13.0) Gecko/2...  "
      ]
     },
     "execution_count": 13,
     "metadata": {},
     "output_type": "execute_result"
    }
   ],
   "source": [
    "#remove referer == NaN\n",
    "#dfmain = dfmain.dropna(subset=['referer'])   \n",
    "#print(dfmain.shape)\n",
    "# only include referer from pangaease\n",
    "#domains = ['pangaea.de', '/search?']\n",
    "domains = ['doi.pangaea.de', 'www.pangaea.de', '/search?']\n",
    "domains_joins = '|'.join(map(re.escape, domains))\n",
    "print(domains_joins)\n",
    "dfmain = dfmain[(dfmain.referer.str.contains(domains_joins))]\n",
    "dfmain.head()"
   ]
  },
  {
   "cell_type": "code",
   "execution_count": 14,
   "metadata": {},
   "outputs": [
    {
     "data": {
      "text/plain": [
       "False"
      ]
     },
     "execution_count": 14,
     "metadata": {},
     "output_type": "execute_result"
    }
   ],
   "source": [
    "'-' in dfmain.referer"
   ]
  },
  {
   "cell_type": "code",
   "execution_count": 15,
   "metadata": {},
   "outputs": [
    {
     "data": {
      "text/plain": [
       "(False, False)"
      ]
     },
     "execution_count": 15,
     "metadata": {},
     "output_type": "execute_result"
    }
   ],
   "source": [
    "dfmain.referer.isnull().values.any(), dfmain.request.isnull().values.any()"
   ]
  },
  {
   "cell_type": "code",
   "execution_count": 16,
   "metadata": {},
   "outputs": [
    {
     "data": {
      "text/plain": [
       "(5239, 6)"
      ]
     },
     "execution_count": 16,
     "metadata": {},
     "output_type": "execute_result"
    }
   ],
   "source": [
    "#dfmain = dfmain[(dfmain.referer.str.contains('google') != True)]  \n",
    "dfmain.shape"
   ]
  },
  {
   "cell_type": "code",
   "execution_count": 17,
   "metadata": {},
   "outputs": [
    {
     "data": {
      "text/html": [
       "<div>\n",
       "<style>\n",
       "    .dataframe thead tr:only-child th {\n",
       "        text-align: right;\n",
       "    }\n",
       "\n",
       "    .dataframe thead th {\n",
       "        text-align: left;\n",
       "    }\n",
       "\n",
       "    .dataframe tbody tr th {\n",
       "        vertical-align: top;\n",
       "    }\n",
       "</style>\n",
       "<table border=\"1\" class=\"dataframe\">\n",
       "  <thead>\n",
       "    <tr style=\"text-align: right;\">\n",
       "      <th></th>\n",
       "      <th>Page URL</th>\n",
       "      <th>SubDomain</th>\n",
       "    </tr>\n",
       "  </thead>\n",
       "  <tbody>\n",
       "    <tr>\n",
       "      <th>0</th>\n",
       "      <td>GET /doi%3A10.1594/PANGAEA.134142?format=event...</td>\n",
       "      <td>134142</td>\n",
       "    </tr>\n",
       "    <tr>\n",
       "      <th>1</th>\n",
       "      <td>/10.1594/PANGAEA.55907?format=events_kml&amp;</td>\n",
       "      <td>55907</td>\n",
       "    </tr>\n",
       "    <tr>\n",
       "      <th>2</th>\n",
       "      <td>/10.1594/PANGAEA.809526</td>\n",
       "      <td>809526</td>\n",
       "    </tr>\n",
       "    <tr>\n",
       "      <th>3</th>\n",
       "      <td>/</td>\n",
       "      <td>NaN</td>\n",
       "    </tr>\n",
       "    <tr>\n",
       "      <th>4</th>\n",
       "      <td>/10.1594/PANGAEA.864108 HTTP/1.1</td>\n",
       "      <td>864108</td>\n",
       "    </tr>\n",
       "  </tbody>\n",
       "</table>\n",
       "</div>"
      ],
      "text/plain": [
       "                                            Page URL SubDomain\n",
       "0  GET /doi%3A10.1594/PANGAEA.134142?format=event...    134142\n",
       "1          /10.1594/PANGAEA.55907?format=events_kml&     55907\n",
       "2                            /10.1594/PANGAEA.809526    809526\n",
       "3                                                  /       NaN\n",
       "4                   /10.1594/PANGAEA.864108 HTTP/1.1    864108"
      ]
     },
     "execution_count": 17,
     "metadata": {},
     "output_type": "execute_result"
    }
   ],
   "source": [
    "#test only\n",
    "m = pd.DataFrame({'Page URL':['GET /doi%3A10.1594/PANGAEA.134142?format=events_kml', '/10.1594/PANGAEA.55907?format=events_kml&',\n",
    "                                   '/10.1594/PANGAEA.809526','/','/10.1594/PANGAEA.864108 HTTP/1.1']})\n",
    "m['SubDomain'] = m['Page URL'].str.extract(r'PANGAEA.\\s*([^\\n? ]+)',expand=False)\n",
    "m.head()"
   ]
  },
  {
   "cell_type": "code",
   "execution_count": 18,
   "metadata": {},
   "outputs": [
    {
     "data": {
      "text/plain": [
       "array([], dtype=int64)"
      ]
     },
     "execution_count": 18,
     "metadata": {},
     "output_type": "execute_result"
    }
   ],
   "source": [
    "#check non-200 status\n",
    "dfmain.loc[dfmain['status'] != 200]['status'].unique()"
   ]
  },
  {
   "cell_type": "code",
   "execution_count": 19,
   "metadata": {},
   "outputs": [
    {
     "name": "stdout",
     "output_type": "stream",
     "text": [
      "(5239, 7)\n",
      "(5150, 7)\n"
     ]
    }
   ],
   "source": [
    "#get resource uri\n",
    "dfmain['_id'] = dfmain['request'].str.extract(r'PANGAEA.\\s*([^\\n? ]+)',expand=False)\n",
    "print(dfmain.shape)\n",
    "#remove rows if dataset is NaN\n",
    "dfmain = dfmain.dropna(subset=['_id'], how='all')\n",
    "print(dfmain.shape)"
   ]
  },
  {
   "cell_type": "code",
   "execution_count": 20,
   "metadata": {},
   "outputs": [
    {
     "data": {
      "text/html": [
       "<div>\n",
       "<style>\n",
       "    .dataframe thead tr:only-child th {\n",
       "        text-align: right;\n",
       "    }\n",
       "\n",
       "    .dataframe thead th {\n",
       "        text-align: left;\n",
       "    }\n",
       "\n",
       "    .dataframe tbody tr th {\n",
       "        vertical-align: top;\n",
       "    }\n",
       "</style>\n",
       "<table border=\"1\" class=\"dataframe\">\n",
       "  <thead>\n",
       "    <tr style=\"text-align: right;\">\n",
       "      <th></th>\n",
       "      <th>ip</th>\n",
       "      <th>time</th>\n",
       "      <th>request</th>\n",
       "      <th>status</th>\n",
       "      <th>referer</th>\n",
       "      <th>user_agent</th>\n",
       "      <th>_id</th>\n",
       "    </tr>\n",
       "  </thead>\n",
       "  <tbody>\n",
       "    <tr>\n",
       "      <th>4832</th>\n",
       "      <td>134.1.2.141</td>\n",
       "      <td>[11/Jun/2012:08:38:00 +0000]</td>\n",
       "      <td>GET /10.1594/PANGAEA.715006 HTTP/1.1</td>\n",
       "      <td>200</td>\n",
       "      <td>\"http://search.yahoo.co.jp/search?p=Bassinot+o...</td>\n",
       "      <td>\"Mozilla/5.0 (Windows NT 5.1; rv:12.0) Gecko/2...</td>\n",
       "      <td>715006</td>\n",
       "    </tr>\n",
       "    <tr>\n",
       "      <th>4857</th>\n",
       "      <td>134.1.2.141</td>\n",
       "      <td>[11/Jun/2012:08:38:33 +0000]</td>\n",
       "      <td>GET /10.1594/PANGAEA.676969 HTTP/1.1</td>\n",
       "      <td>200</td>\n",
       "      <td>\"http://www.pangaea.de/search?q=project:BSRN+%...</td>\n",
       "      <td>\"Mozilla/5.0 (Windows NT 5.1; rv:12.0) Gecko/2...</td>\n",
       "      <td>676969</td>\n",
       "    </tr>\n",
       "    <tr>\n",
       "      <th>4915</th>\n",
       "      <td>134.1.2.141</td>\n",
       "      <td>[11/Jun/2012:08:39:49 +0000]</td>\n",
       "      <td>GET /10.1594/PANGAEA.715006?format=zip&amp;charset...</td>\n",
       "      <td>200</td>\n",
       "      <td>\"http://doi.pangaea.de/10.1594/PANGAEA.715006\"</td>\n",
       "      <td>\"Mozilla/5.0 (Windows NT 5.1; rv:12.0) Gecko/2...</td>\n",
       "      <td>715006</td>\n",
       "    </tr>\n",
       "    <tr>\n",
       "      <th>5462</th>\n",
       "      <td>134.1.2.141</td>\n",
       "      <td>[11/Jun/2012:08:44:32 +0000]</td>\n",
       "      <td>GET /10.1594/PANGAEA.673228 HTTP/1.1</td>\n",
       "      <td>200</td>\n",
       "      <td>\"http://www.pangaea.de/search?q=project:BSRN+%...</td>\n",
       "      <td>\"Mozilla/5.0 (Windows NT 5.1; rv:10.0.4) Gecko...</td>\n",
       "      <td>673228</td>\n",
       "    </tr>\n",
       "    <tr>\n",
       "      <th>5526</th>\n",
       "      <td>134.1.2.141</td>\n",
       "      <td>[11/Jun/2012:08:53:08 +0000]</td>\n",
       "      <td>GET /10.1594/PANGAEA.132301 HTTP/1.1</td>\n",
       "      <td>200</td>\n",
       "      <td>\"http://www.pangaea.de/search?count=10&amp;q=prima...</td>\n",
       "      <td>\"Mozilla/5.0 (Windows NT 6.0; rv:13.0) Gecko/2...</td>\n",
       "      <td>132301</td>\n",
       "    </tr>\n",
       "  </tbody>\n",
       "</table>\n",
       "</div>"
      ],
      "text/plain": [
       "               ip                          time  \\\n",
       "4832  134.1.2.141  [11/Jun/2012:08:38:00 +0000]   \n",
       "4857  134.1.2.141  [11/Jun/2012:08:38:33 +0000]   \n",
       "4915  134.1.2.141  [11/Jun/2012:08:39:49 +0000]   \n",
       "5462  134.1.2.141  [11/Jun/2012:08:44:32 +0000]   \n",
       "5526  134.1.2.141  [11/Jun/2012:08:53:08 +0000]   \n",
       "\n",
       "                                                request  status  \\\n",
       "4832               GET /10.1594/PANGAEA.715006 HTTP/1.1     200   \n",
       "4857               GET /10.1594/PANGAEA.676969 HTTP/1.1     200   \n",
       "4915  GET /10.1594/PANGAEA.715006?format=zip&charset...     200   \n",
       "5462               GET /10.1594/PANGAEA.673228 HTTP/1.1     200   \n",
       "5526               GET /10.1594/PANGAEA.132301 HTTP/1.1     200   \n",
       "\n",
       "                                                referer  \\\n",
       "4832  \"http://search.yahoo.co.jp/search?p=Bassinot+o...   \n",
       "4857  \"http://www.pangaea.de/search?q=project:BSRN+%...   \n",
       "4915     \"http://doi.pangaea.de/10.1594/PANGAEA.715006\"   \n",
       "5462  \"http://www.pangaea.de/search?q=project:BSRN+%...   \n",
       "5526  \"http://www.pangaea.de/search?count=10&q=prima...   \n",
       "\n",
       "                                             user_agent     _id  \n",
       "4832  \"Mozilla/5.0 (Windows NT 5.1; rv:12.0) Gecko/2...  715006  \n",
       "4857  \"Mozilla/5.0 (Windows NT 5.1; rv:12.0) Gecko/2...  676969  \n",
       "4915  \"Mozilla/5.0 (Windows NT 5.1; rv:12.0) Gecko/2...  715006  \n",
       "5462  \"Mozilla/5.0 (Windows NT 5.1; rv:10.0.4) Gecko...  673228  \n",
       "5526  \"Mozilla/5.0 (Windows NT 6.0; rv:13.0) Gecko/2...  132301  "
      ]
     },
     "execution_count": 20,
     "metadata": {},
     "output_type": "execute_result"
    }
   ],
   "source": [
    "#dfmain['_id'] = pd.to_numeric(dfmain['_id'], errors='coerce')\n",
    "dfmain.head()"
   ]
  },
  {
   "cell_type": "code",
   "execution_count": 21,
   "metadata": {
    "collapsed": true
   },
   "outputs": [],
   "source": [
    "def get_query(url):\n",
    "    qparams = dict(parse.parse_qsl(parse.urlsplit(url).query))\n",
    "    query_string = \"\"\n",
    "    if len(qparams) > 0:\n",
    "        for key in qparams:\n",
    "            if re.match(r'f[.]|q|t|p', key):\n",
    "                query_string += qparams[key] + \" \"\n",
    "    return query_string"
   ]
  },
  {
   "cell_type": "code",
   "execution_count": 22,
   "metadata": {
    "scrolled": true
   },
   "outputs": [
    {
     "data": {
      "text/plain": [
       "('\"http://www.pangaea.de/search?count=10&minlat=&minlon=&maxlat=&maxlon=&mindate=&maxdate=&env=All&q=ANT-XXVII%2F4+-radiosonde+\"',\n",
       " 'ANT-XXVII/4 -radiosonde \" ')"
      ]
     },
     "execution_count": 22,
     "metadata": {},
     "output_type": "execute_result"
    }
   ],
   "source": [
    "testUrl = dfmain.iloc[10]['referer']\n",
    "testUrl, get_query(testUrl)"
   ]
  },
  {
   "cell_type": "code",
   "execution_count": 23,
   "metadata": {
    "collapsed": true
   },
   "outputs": [],
   "source": [
    "#first degree queries\n",
    "dfmain['query_1']=dfmain['referer'].map(get_query)"
   ]
  },
  {
   "cell_type": "code",
   "execution_count": 24,
   "metadata": {},
   "outputs": [
    {
     "data": {
      "text/plain": [
       "(True, False)"
      ]
     },
     "execution_count": 24,
     "metadata": {},
     "output_type": "execute_result"
    }
   ],
   "source": [
    "\"\" in dfmain.query_1.unique(), \" \" in dfmain.query_1.unique()"
   ]
  },
  {
   "cell_type": "code",
   "execution_count": 25,
   "metadata": {},
   "outputs": [
    {
     "data": {
      "text/plain": [
       "('[11/Jun/2012:08:38:00 +0000]', '[16/Jun/2012:23:53:39 +0000]')"
      ]
     },
     "execution_count": 25,
     "metadata": {},
     "output_type": "execute_result"
    }
   ],
   "source": [
    "dfmain.time.min(),dfmain.time.max()"
   ]
  },
  {
   "cell_type": "code",
   "execution_count": 26,
   "metadata": {},
   "outputs": [
    {
     "data": {
      "text/plain": [
       "(5150, 8)"
      ]
     },
     "execution_count": 26,
     "metadata": {},
     "output_type": "execute_result"
    }
   ],
   "source": [
    "dfsummary = dfmain.copy()\n",
    "dfsummary.shape"
   ]
  },
  {
   "cell_type": "code",
   "execution_count": 27,
   "metadata": {},
   "outputs": [
    {
     "data": {
      "text/plain": [
       "((5150, 8), (2639, 8))"
      ]
     },
     "execution_count": 27,
     "metadata": {},
     "output_type": "execute_result"
    }
   ],
   "source": [
    "#remove rows with \"\" queries\n",
    "dfsummary= dfsummary[dfsummary.query_1 != \"\"]\n",
    "dfmain.shape, dfsummary.shape"
   ]
  },
  {
   "cell_type": "code",
   "execution_count": 28,
   "metadata": {},
   "outputs": [
    {
     "data": {
      "text/html": [
       "<div>\n",
       "<style>\n",
       "    .dataframe thead tr:only-child th {\n",
       "        text-align: right;\n",
       "    }\n",
       "\n",
       "    .dataframe thead th {\n",
       "        text-align: left;\n",
       "    }\n",
       "\n",
       "    .dataframe tbody tr th {\n",
       "        vertical-align: top;\n",
       "    }\n",
       "</style>\n",
       "<table border=\"1\" class=\"dataframe\">\n",
       "  <thead>\n",
       "    <tr style=\"text-align: right;\">\n",
       "      <th></th>\n",
       "      <th>_id</th>\n",
       "      <th>query_1</th>\n",
       "    </tr>\n",
       "  </thead>\n",
       "  <tbody>\n",
       "    <tr>\n",
       "      <th>4832</th>\n",
       "      <td>715006</td>\n",
       "      <td>Bassinot oxygen isotope</td>\n",
       "    </tr>\n",
       "    <tr>\n",
       "      <th>4857</th>\n",
       "      <td>676969</td>\n",
       "      <td>project:BSRN +event:BAR +Ozone total</td>\n",
       "    </tr>\n",
       "    <tr>\n",
       "      <th>5462</th>\n",
       "      <td>673228</td>\n",
       "      <td>project:BSRN +event:TOR +\"Basic and other\"</td>\n",
       "    </tr>\n",
       "    <tr>\n",
       "      <th>5526</th>\n",
       "      <td>132301</td>\n",
       "      <td>primary productivity</td>\n",
       "    </tr>\n",
       "    <tr>\n",
       "      <th>5530</th>\n",
       "      <td>679305</td>\n",
       "      <td>primary productivity</td>\n",
       "    </tr>\n",
       "  </tbody>\n",
       "</table>\n",
       "</div>"
      ],
      "text/plain": [
       "         _id                                      query_1\n",
       "4832  715006                     Bassinot oxygen isotope \n",
       "4857  676969        project:BSRN +event:BAR +Ozone total \n",
       "5462  673228  project:BSRN +event:TOR +\"Basic and other\" \n",
       "5526  132301                        primary productivity \n",
       "5530  679305                        primary productivity "
      ]
     },
     "execution_count": 28,
     "metadata": {},
     "output_type": "execute_result"
    }
   ],
   "source": [
    "#Bassinot oxygen isotope\n",
    "dfsummary = dfsummary[['_id','query_1']]\n",
    "dfsummary.head()"
   ]
  },
  {
   "cell_type": "code",
   "execution_count": 29,
   "metadata": {},
   "outputs": [
    {
     "data": {
      "text/html": [
       "<div>\n",
       "<style>\n",
       "    .dataframe thead tr:only-child th {\n",
       "        text-align: right;\n",
       "    }\n",
       "\n",
       "    .dataframe thead th {\n",
       "        text-align: left;\n",
       "    }\n",
       "\n",
       "    .dataframe tbody tr th {\n",
       "        vertical-align: top;\n",
       "    }\n",
       "</style>\n",
       "<table border=\"1\" class=\"dataframe\">\n",
       "  <thead>\n",
       "    <tr style=\"text-align: right;\">\n",
       "      <th></th>\n",
       "      <th>query_1</th>\n",
       "      <th>datasets</th>\n",
       "      <th>Length</th>\n",
       "    </tr>\n",
       "  </thead>\n",
       "  <tbody>\n",
       "    <tr>\n",
       "      <th>0</th>\n",
       "      <td>G�mez Izquierdo\"</td>\n",
       "      <td>[773374, 730506, 773378, 773387, 773364]</td>\n",
       "      <td>5</td>\n",
       "    </tr>\n",
       "    <tr>\n",
       "      <th>1</th>\n",
       "      <td>Namsaraev Kara Sea methane</td>\n",
       "      <td>[746796]</td>\n",
       "      <td>1</td>\n",
       "    </tr>\n",
       "    <tr>\n",
       "      <th>2</th>\n",
       "      <td>Population dynamics of the surf clams Donax h...</td>\n",
       "      <td>[690503]</td>\n",
       "      <td>1</td>\n",
       "    </tr>\n",
       "    <tr>\n",
       "      <th>3</th>\n",
       "      <td>Schlo&amp;#946;teich kaliningrad \"</td>\n",
       "      <td>[772314, 775178, 772250]</td>\n",
       "      <td>3</td>\n",
       "    </tr>\n",
       "    <tr>\n",
       "      <th>4</th>\n",
       "      <td>cortese, giuseppe; abelmann, andrea (2002): r...</td>\n",
       "      <td>[706557]</td>\n",
       "      <td>1</td>\n",
       "    </tr>\n",
       "  </tbody>\n",
       "</table>\n",
       "</div>"
      ],
      "text/plain": [
       "                                             query_1  \\\n",
       "0                                  G�mez Izquierdo\"    \n",
       "1                        Namsaraev Kara Sea methane    \n",
       "2   Population dynamics of the surf clams Donax h...   \n",
       "3                    Schlo&#946;teich kaliningrad \"    \n",
       "4   cortese, giuseppe; abelmann, andrea (2002): r...   \n",
       "\n",
       "                                   datasets  Length  \n",
       "0  [773374, 730506, 773378, 773387, 773364]       5  \n",
       "1                                  [746796]       1  \n",
       "2                                  [690503]       1  \n",
       "3                  [772314, 775178, 772250]       3  \n",
       "4                                  [706557]       1  "
      ]
     },
     "execution_count": 29,
     "metadata": {},
     "output_type": "execute_result"
    }
   ],
   "source": [
    "df_qid= dfsummary.groupby(['query_1'])['_id'].apply(list).reset_index(name='datasets')\n",
    "df_qid['Length'] = df_qid['datasets'].str.len()\n",
    "df_qid.head()"
   ]
  },
  {
   "cell_type": "code",
   "execution_count": 33,
   "metadata": {},
   "outputs": [
    {
     "data": {
      "text/plain": [
       "(1177, 3)"
      ]
     },
     "execution_count": 33,
     "metadata": {},
     "output_type": "execute_result"
    }
   ],
   "source": [
    "df_qid.shape"
   ]
  },
  {
   "cell_type": "code",
   "execution_count": 30,
   "metadata": {
    "collapsed": true
   },
   "outputs": [],
   "source": [
    "#dftest = dfsummary.groupby(['query_1']).size().reset_index(name='count')"
   ]
  },
  {
   "cell_type": "code",
   "execution_count": 31,
   "metadata": {},
   "outputs": [
    {
     "data": {
      "text/plain": [
       "'C:\\\\Users\\\\asd\\\\python-workspace\\\\pangaea-recsys\\\\usage_analysis\\\\usage_source_test'"
      ]
     },
     "execution_count": 31,
     "metadata": {},
     "output_type": "execute_result"
    }
   ],
   "source": [
    "source_dir"
   ]
  },
  {
   "cell_type": "code",
   "execution_count": 32,
   "metadata": {
    "collapsed": true
   },
   "outputs": [],
   "source": [
    "df_qid.to_csv(os.path.abspath(os.path.join(parent_dir, 'results'))+'/query_data_frequency.csv', sep='\\t', encoding='utf-8')"
   ]
  },
  {
   "cell_type": "code",
   "execution_count": null,
   "metadata": {
    "collapsed": true
   },
   "outputs": [],
   "source": []
  }
 ],
 "metadata": {
  "anaconda-cloud": {},
  "kernelspec": {
   "display_name": "Python 3",
   "language": "python",
   "name": "python3"
  },
  "language_info": {
   "codemirror_mode": {
    "name": "ipython",
    "version": 3
   },
   "file_extension": ".py",
   "mimetype": "text/x-python",
   "name": "python",
   "nbconvert_exporter": "python",
   "pygments_lexer": "ipython3",
   "version": "3.6.5"
  }
 },
 "nbformat": 4,
 "nbformat_minor": 1
}
