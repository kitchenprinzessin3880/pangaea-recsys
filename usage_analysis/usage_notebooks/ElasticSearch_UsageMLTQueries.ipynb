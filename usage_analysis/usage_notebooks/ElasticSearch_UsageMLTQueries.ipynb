{
 "cells": [
  {
   "cell_type": "code",
   "execution_count": 172,
   "metadata": {},
   "outputs": [],
   "source": [
    "from __future__ import print_function\n",
    "from elasticsearch import Elasticsearch\n",
    "from elasticsearch_dsl import Search\n",
    "from itertools import chain\n",
    "from elasticsearch_dsl import Q\n",
    "from elasticsearch_dsl.query import MoreLikeThis\n",
    "import json\n",
    "import pandas as pd\n",
    "import numpy as np"
   ]
  },
  {
   "cell_type": "code",
   "execution_count": 173,
   "metadata": {},
   "outputs": [
    {
     "name": "stdout",
     "output_type": "stream",
     "text": [
      "b'{\\n  \"name\" : \"YhF4vfe\",\\n  \"cluster_name\" : \"elasticsearch\",\\n  \"cluster_uuid\" : \"CPv0HmFPQvChtynShF0b5A\",\\n  \"version\" : {\\n    \"number\" : \"5.6.0\",\\n    \"build_hash\" : \"781a835\",\\n    \"build_date\" : \"2017-09-07T03:09:58.087Z\",\\n    \"build_snapshot\" : false,\\n    \"lucene_version\" : \"6.6.0\"\\n  },\\n  \"tagline\" : \"You Know, for Search\"\\n}\\n'\n"
     ]
    }
   ],
   "source": [
    "import requests\n",
    "res = requests.get('http://localhost:9200')\n",
    "print(res.content)"
   ]
  },
  {
   "cell_type": "code",
   "execution_count": 174,
   "metadata": {},
   "outputs": [],
   "source": [
    "def scrollr(client, scroll_id, f):\n",
    "    r =  client.scroll(scroll_id, scroll=\"2m\")\n",
    "    while len(r['hits']['hits']) > 0:\n",
    "        for item in r['hits']['hits']:\n",
    "            yield f(item)\n",
    "        r = client.scroll(scroll_id, scroll=\"2m\")"
   ]
  },
  {
   "cell_type": "code",
   "execution_count": 175,
   "metadata": {},
   "outputs": [],
   "source": [
    "def extract_references(article):\n",
    "    return article['_id']"
   ]
  },
  {
   "cell_type": "code",
   "execution_count": 176,
   "metadata": {},
   "outputs": [],
   "source": [
    "index ='pangaea-recommender'\n",
    "index_type='rec'\n",
    "host ='http://localhost:9200'"
   ]
  },
  {
   "cell_type": "code",
   "execution_count": 177,
   "metadata": {},
   "outputs": [],
   "source": [
    "doc = {'query': {'match_all' : {}}}"
   ]
  },
  {
   "cell_type": "code",
   "execution_count": 178,
   "metadata": {},
   "outputs": [
    {
     "data": {
      "text/plain": [
       "(319364, 319364)"
      ]
     },
     "execution_count": 178,
     "metadata": {},
     "output_type": "execute_result"
    }
   ],
   "source": [
    "listall=[]\n",
    "client = Elasticsearch(host)\n",
    "r = client.search(index, index_type, body=doc, scroll=\"2m\")\n",
    "scroll_id = r['_scroll_id']\n",
    "for ref in scrollr(client, scroll_id, extract_references):\n",
    "    listall.append(int(ref))\n",
    "    \n",
    "(len(listall)), len(set(listall))"
   ]
  },
  {
   "cell_type": "code",
   "execution_count": 179,
   "metadata": {},
   "outputs": [
    {
     "data": {
      "text/plain": [
       "[50027, 50028, 50029]"
      ]
     },
     "execution_count": 179,
     "metadata": {},
     "output_type": "execute_result"
    }
   ],
   "source": [
    "listall[:3]"
   ]
  },
  {
   "cell_type": "markdown",
   "metadata": {},
   "source": [
    "# ES - Query Terms 1,2"
   ]
  },
  {
   "cell_type": "code",
   "execution_count": 180,
   "metadata": {
    "scrolled": true
   },
   "outputs": [],
   "source": [
    "rows_list = []\n",
    "size =5\n",
    "client = Elasticsearch(host)\n",
    "for dId in listall:\n",
    "    q1 = Q(MoreLikeThis(like={'_id': dId}, fields=['query_1'],min_term_freq=0,min_doc_freq=5,max_query_terms=25,boost_terms=1, boost=2, minimum_should_match=\"10%\"))\n",
    "    q2 = Q(MoreLikeThis(like={'_id': dId}, fields=['query_2'],min_term_freq=0,min_doc_freq=5,max_query_terms=25,boost_terms=1, boost=1, minimum_should_match=\"10%\"))\n",
    "    q = Q('bool', should=[q1,q2])\n",
    "    s = Search().using(client)\n",
    "    s = s.query(q)\n",
    "    s = s[0:size]\n",
    "    #print(json.dumps(s.to_dict()))\n",
    "    response = s.execute()\n",
    "    #print(response.hits.total)\n",
    "    d = {}\n",
    "    d['_id'] = dId\n",
    "    l = []\n",
    "    for row in response['hits']['hits']:\n",
    "        l.append(row['_id'])\n",
    "    d['related-by-query'] = l\n",
    "    rows_list.append(d)"
   ]
  },
  {
   "cell_type": "code",
   "execution_count": 181,
   "metadata": {},
   "outputs": [
    {
     "data": {
      "text/html": [
       "<div>\n",
       "<style scoped>\n",
       "    .dataframe tbody tr th:only-of-type {\n",
       "        vertical-align: middle;\n",
       "    }\n",
       "\n",
       "    .dataframe tbody tr th {\n",
       "        vertical-align: top;\n",
       "    }\n",
       "\n",
       "    .dataframe thead th {\n",
       "        text-align: right;\n",
       "    }\n",
       "</style>\n",
       "<table border=\"1\" class=\"dataframe\">\n",
       "  <thead>\n",
       "    <tr style=\"text-align: right;\">\n",
       "      <th></th>\n",
       "      <th>_id</th>\n",
       "      <th>related-by-query</th>\n",
       "    </tr>\n",
       "  </thead>\n",
       "  <tbody>\n",
       "    <tr>\n",
       "      <th>0</th>\n",
       "      <td>50027</td>\n",
       "      <td>[50026, 815911, 143479, 614753, 57296]</td>\n",
       "    </tr>\n",
       "    <tr>\n",
       "      <th>1</th>\n",
       "      <td>50028</td>\n",
       "      <td>[]</td>\n",
       "    </tr>\n",
       "    <tr>\n",
       "      <th>2</th>\n",
       "      <td>50029</td>\n",
       "      <td>[734017, 602307, 267774, 734373, 54866]</td>\n",
       "    </tr>\n",
       "    <tr>\n",
       "      <th>3</th>\n",
       "      <td>50030</td>\n",
       "      <td>[]</td>\n",
       "    </tr>\n",
       "    <tr>\n",
       "      <th>4</th>\n",
       "      <td>50031</td>\n",
       "      <td>[711067, 138308, 228648, 50166, 51669]</td>\n",
       "    </tr>\n",
       "  </tbody>\n",
       "</table>\n",
       "</div>"
      ],
      "text/plain": [
       "     _id                         related-by-query\n",
       "0  50027   [50026, 815911, 143479, 614753, 57296]\n",
       "1  50028                                       []\n",
       "2  50029  [734017, 602307, 267774, 734373, 54866]\n",
       "3  50030                                       []\n",
       "4  50031   [711067, 138308, 228648, 50166, 51669]"
      ]
     },
     "execution_count": 181,
     "metadata": {},
     "output_type": "execute_result"
    }
   ],
   "source": [
    "df = pd.DataFrame(rows_list) \n",
    "df.head()"
   ]
  },
  {
   "cell_type": "code",
   "execution_count": 182,
   "metadata": {},
   "outputs": [
    {
     "data": {
      "text/plain": [
       "(319364, 2)"
      ]
     },
     "execution_count": 182,
     "metadata": {},
     "output_type": "execute_result"
    }
   ],
   "source": [
    "df.shape"
   ]
  },
  {
   "cell_type": "code",
   "execution_count": 184,
   "metadata": {},
   "outputs": [],
   "source": [
    "import os\n",
    "parent_dir = os.path.dirname(os.path.dirname(os.path.abspath(os.path.realpath('__file__'))))\n",
    "df.to_csv(os.path.abspath(os.path.join(parent_dir, 'results'))+'/es_relbyqueries.csv', sep='\\t', encoding='utf-8')"
   ]
  },
  {
   "cell_type": "code",
   "execution_count": null,
   "metadata": {},
   "outputs": [],
   "source": []
  }
 ],
 "metadata": {
  "kernelspec": {
   "display_name": "Python 3",
   "language": "python",
   "name": "python3"
  },
  "language_info": {
   "codemirror_mode": {
    "name": "ipython",
    "version": 3
   },
   "file_extension": ".py",
   "mimetype": "text/x-python",
   "name": "python",
   "nbconvert_exporter": "python",
   "pygments_lexer": "ipython3",
   "version": "3.6.5"
  }
 },
 "nbformat": 4,
 "nbformat_minor": 2
}
