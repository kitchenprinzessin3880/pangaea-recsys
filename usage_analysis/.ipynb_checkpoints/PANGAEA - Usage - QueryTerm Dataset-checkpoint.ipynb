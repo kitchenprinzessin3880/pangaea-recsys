{
 "cells": [
  {
   "cell_type": "code",
   "execution_count": 1,
   "metadata": {
    "collapsed": false
   },
   "outputs": [],
   "source": [
    "import sys\n",
    "import os\n",
    "import bz2\n",
    "from bz2 import BZ2File\n",
    "import io\n",
    "import csv\n",
    "import glob\n",
    "import pandas as pd\n",
    "from datetime import datetime\n",
    "import pytz\n",
    "import numpy as np\n",
    "import re\n",
    "from urllib import parse\n",
    "from furl import furl\n",
    "from itertools import tee\n",
    "pd.options.mode.chained_assignment = None"
   ]
  },
  {
   "cell_type": "code",
   "execution_count": 2,
   "metadata": {
    "collapsed": false
   },
   "outputs": [],
   "source": [
    "path = \"pangaea_usage\"\n",
    "filename_prefix = \"doi.pangaea.de-access.\"\n",
    "file_type=\".bz2\""
   ]
  },
  {
   "cell_type": "code",
   "execution_count": 3,
   "metadata": {
    "collapsed": false
   },
   "outputs": [],
   "source": [
    "def parse_str(x):\n",
    "    \"\"\"\n",
    "    Returns the string delimited by two characters.\n",
    "    Example:`>>> parse_str('[my string]')``'my string'`\"\"\"\n",
    "    if x:\n",
    "        return x[1:-1]\n",
    "    else:\n",
    "        return x"
   ]
  },
  {
   "cell_type": "code",
   "execution_count": null,
   "metadata": {
    "collapsed": false
   },
   "outputs": [],
   "source": [
    "#def clean_logs(df):\n",
    "    "
   ]
  },
  {
   "cell_type": "code",
   "execution_count": null,
   "metadata": {
    "collapsed": false
   },
   "outputs": [
    {
     "name": "stdout",
     "output_type": "stream",
     "text": [
      "pangaea_usage\\doi.pangaea.de-access.201707020000.bz2\n",
      "pangaea_usage\\doi.pangaea.de-access.201707090000.bz2\n",
      "pangaea_usage\\doi.pangaea.de-access.201707160000.bz2\n",
      "pangaea_usage\\doi.pangaea.de-access.201707230000.bz2\n"
     ]
    }
   ],
   "source": [
    "#converters={'request': parse_str,'referer': parse_str,'user_agent': parse_str\n",
    "dfs = []\n",
    "for file in os.listdir(path):\n",
    "    if file.startswith(filename_prefix) and file.endswith(file_type):\n",
    "        filepath = os.path.join(path, file)\n",
    "        print(filepath)\n",
    "        data = pd.read_csv(filepath, compression='bz2',encoding = 'ISO-8859-1',\n",
    "                           sep=r'\\s(?=(?:[^\"]*\"[^\"]*\")*[^\"]*$)(?![^\\[]*\\])', engine='python', header=0,\n",
    "                           usecols=[0, 3, 4, 5, 7, 8],names=['ip', 'time', 'request', 'status', 'referer', 'user_agent'])\n",
    "        dfs.append(data)\n",
    "\n",
    "# Concatenate all data into one DataFrame\n",
    "dfmain = pd.concat(dfs, ignore_index=True)"
   ]
  },
  {
   "cell_type": "code",
   "execution_count": null,
   "metadata": {
    "collapsed": false
   },
   "outputs": [],
   "source": [
    "dfmain.shape"
   ]
  },
  {
   "cell_type": "code",
   "execution_count": null,
   "metadata": {
    "collapsed": false
   },
   "outputs": [],
   "source": [
    "#Get resource URI\n",
    "request = dfmain.request.str.split()\n",
    "dfmain['resource'] = request.str[1]\n",
    "#Filter out non GET and non 200 requests\n",
    "dfmain = dfmain[(request.str[0] == 'GET') & (dfmain.status == 200)]\n",
    "dfmain.shape"
   ]
  },
  {
   "cell_type": "code",
   "execution_count": null,
   "metadata": {
    "collapsed": false
   },
   "outputs": [],
   "source": [
    "#undesired resources\n",
    "dfmain = dfmain[~dfmain['request'].str.match(r'^/media|^/static|^/admin|^/robots.txt$|^/favicon.ico$')]\n",
    "#filter crawlers by User-Agent\n",
    "dfmain = dfmain[~dfmain['user_agent'].str.match(r'.*?bot|.*?spider|.*?crawler|.*?slurp', flags=re.I).fillna(False)]\n",
    "dfmain.shape"
   ]
  },
  {
   "cell_type": "code",
   "execution_count": null,
   "metadata": {
    "collapsed": false
   },
   "outputs": [],
   "source": [
    "#remove referer == NaN\n",
    "dfmain = dfmain.dropna(subset=['referer'])   \n",
    "# only include referer from pangaease\n",
    "domains = ['doi.pangaea.de', 'www.pangaea.de', '/search?']\n",
    "domains_joins = '|'.join(map(re.escape, domains))\n",
    "print(domains_joins)\n",
    "dfmain = dfmain[(dfmain.referer.str.contains(domains_joins))]\n",
    "dfmain.head()"
   ]
  },
  {
   "cell_type": "code",
   "execution_count": null,
   "metadata": {
    "collapsed": true
   },
   "outputs": [],
   "source": [
    "#dfmain = dfmain[(dfmain.referer.str.contains('google') != True)]  \n",
    "#dfmain.shape"
   ]
  },
  {
   "cell_type": "code",
   "execution_count": null,
   "metadata": {
    "collapsed": false
   },
   "outputs": [],
   "source": [
    "#test only\n",
    "m = pd.DataFrame({'Page URL':['GET /doi%3A10.1594/PANGAEA.134142?format=events_kml', '/10.1594/PANGAEA.55907?format=events_kml&',\n",
    "                                   '/10.1594/PANGAEA.809526','/','/10.1594/PANGAEA.864108 HTTP/1.1']})\n",
    "m['SubDomain'] = m['Page URL'].str.extract(r'PANGAEA.\\s*([^\\n? ]+)',expand=False)\n",
    "m.head()"
   ]
  },
  {
   "cell_type": "code",
   "execution_count": null,
   "metadata": {
    "collapsed": true
   },
   "outputs": [],
   "source": [
    "dfmain['status'] = dfmain['status'].astype(int)"
   ]
  },
  {
   "cell_type": "code",
   "execution_count": null,
   "metadata": {
    "collapsed": false
   },
   "outputs": [],
   "source": [
    "#convert status to int\n",
    "dfmain.loc[dfmain['status'] != 200]['status'].unique()"
   ]
  },
  {
   "cell_type": "code",
   "execution_count": null,
   "metadata": {
    "collapsed": false
   },
   "outputs": [],
   "source": [
    "#get resource uri\n",
    "dfmain['_id'] = dfmain['request'].str.extract(r'PANGAEA.\\s*([^\\n? ]+)',expand=False)\n",
    "#remove rows if dataset is NaN\n",
    "dfmain = dfmain.dropna(subset=['_id'], how='all')\n",
    "dfmain.shape"
   ]
  },
  {
   "cell_type": "code",
   "execution_count": null,
   "metadata": {
    "collapsed": false
   },
   "outputs": [],
   "source": [
    "#dfmain['_id'] = pd.to_numeric(dfmain['_id'], errors='coerce')\n",
    "dfmain.head()"
   ]
  },
  {
   "cell_type": "code",
   "execution_count": null,
   "metadata": {
    "collapsed": false
   },
   "outputs": [],
   "source": [
    "#dfmain = dfmain[~dfmain['ip'].str.startswith('X.X.X.')] "
   ]
  },
  {
   "cell_type": "code",
   "execution_count": null,
   "metadata": {
    "collapsed": true
   },
   "outputs": [],
   "source": [
    "def get_query(url):\n",
    "    qparams = dict(parse.parse_qsl(parse.urlsplit(url).query))\n",
    "    query_string= \"\"\n",
    "    if len(qparams)>0:\n",
    "        for key in qparams:\n",
    "            if re.match(r'f[.]|q|t', key):\n",
    "                query_string += qparams[key] + \" \"\n",
    "    return query_string"
   ]
  },
  {
   "cell_type": "code",
   "execution_count": null,
   "metadata": {
    "collapsed": false
   },
   "outputs": [],
   "source": [
    "#first degree queries\n",
    "dfmain['query_1']=dfmain['referer'].map(get_query)"
   ]
  },
  {
   "cell_type": "code",
   "execution_count": null,
   "metadata": {
    "collapsed": false
   },
   "outputs": [],
   "source": [
    "\"\" in dfmain.query_1.unique(), \" \" in dfmain.query_1.unique()"
   ]
  },
  {
   "cell_type": "code",
   "execution_count": null,
   "metadata": {
    "collapsed": false
   },
   "outputs": [],
   "source": [
    "#convert time to datetime type\n",
    "dfmain['time'] = dfmain['time'].str.strip('[]').str[:-6]\n",
    "dfmain['time'] = pd.to_datetime(dfmain['time'], format='%d/%b/%Y:%H:%M:%S')"
   ]
  },
  {
   "cell_type": "code",
   "execution_count": null,
   "metadata": {
    "collapsed": false
   },
   "outputs": [],
   "source": [
    "dfmain.info()"
   ]
  },
  {
   "cell_type": "code",
   "execution_count": null,
   "metadata": {
    "collapsed": false
   },
   "outputs": [],
   "source": [
    "dfmain['time_normalize'] = dfmain['time'].dt.date\n",
    "#dfmain['time_normalize']=dfmain['time'].dt.round('720min')  \n",
    "dfmain.head()"
   ]
  },
  {
   "cell_type": "code",
   "execution_count": null,
   "metadata": {
    "collapsed": false
   },
   "outputs": [],
   "source": [
    "dfmain.ix[dfmain['_id']=='875146']['referer']"
   ]
  },
  {
   "cell_type": "code",
   "execution_count": null,
   "metadata": {
    "collapsed": false
   },
   "outputs": [],
   "source": [
    "dfmain['query_2'] = \"\"\n",
    "dfmain = dfmain[['ip','time','_id','query_1','query_2','time_normalize']]"
   ]
  },
  {
   "cell_type": "code",
   "execution_count": null,
   "metadata": {
    "collapsed": false
   },
   "outputs": [],
   "source": [
    "dfmain.shape"
   ]
  },
  {
   "cell_type": "code",
   "execution_count": null,
   "metadata": {
    "collapsed": false
   },
   "outputs": [],
   "source": [
    "dfmain.head(15)"
   ]
  },
  {
   "cell_type": "code",
   "execution_count": null,
   "metadata": {
    "collapsed": false
   },
   "outputs": [],
   "source": [
    "first = dfmain.groupby(by=['ip','time_normalize'])\n",
    "first_filtered = first.filter(lambda x: len(x[x['query_1'] != \"\"]) >0)\n",
    "first_filtered.head(20)  "
   ]
  },
  {
   "cell_type": "code",
   "execution_count": null,
   "metadata": {
    "collapsed": false
   },
   "outputs": [],
   "source": [
    "second = first_filtered.groupby(by=['ip','time_normalize'])\n",
    "filtered = second.filter(lambda x: len(x[x['query_1'] == \"\"]) >0)\n",
    "filtered.head(20)  "
   ]
  },
  {
   "cell_type": "code",
   "execution_count": null,
   "metadata": {
    "collapsed": false
   },
   "outputs": [],
   "source": [
    "#second_filters = filtered_notnull.groupby(['ip','time_normalize'])['query_1'].filter(lambda x: len(x == \"\") > 0)\n",
    "#filtered = filtered_notnull[filtered_notnull['query_1'].isin(second_filters)]\n",
    "#filtered.head(20)"
   ]
  },
  {
   "cell_type": "code",
   "execution_count": null,
   "metadata": {
    "collapsed": false
   },
   "outputs": [],
   "source": [
    "#groups_final = filtered_notnull.groupby(by=['ip','time_normalize'])\n",
    "#filtered = groups_final.filter(lambda x: len(x[x['query_1'] == None]) >0)\n",
    "#filtered.head(20)  "
   ]
  },
  {
   "cell_type": "code",
   "execution_count": null,
   "metadata": {
    "collapsed": false
   },
   "outputs": [],
   "source": [
    "def pairwise(iterable):\n",
    "    \"s -> (s0,s1), (s1,s2), (s2, s3), ...\"\n",
    "    a, b = tee(iterable)\n",
    "    next(b, None)\n",
    "    return zip(a, b)"
   ]
  },
  {
   "cell_type": "code",
   "execution_count": null,
   "metadata": {
    "collapsed": false
   },
   "outputs": [],
   "source": [
    "for (i1, row1), (i2, row2) in pairwise(filtered.iterrows()):\n",
    "    if ((row1[\"query_1\"] != \"\") and (row2[\"query_1\"] == \"\")):\n",
    "        filtered.set_value(i2, 'query_2', row1[\"query_1\"])\n",
    "        #filtered.loc[i2, 'query_2'] = row1[\"query_1\"]"
   ]
  },
  {
   "cell_type": "code",
   "execution_count": null,
   "metadata": {
    "collapsed": false
   },
   "outputs": [],
   "source": [
    "filtered.head(20)"
   ]
  },
  {
   "cell_type": "code",
   "execution_count": null,
   "metadata": {
    "collapsed": false
   },
   "outputs": [],
   "source": [
    "filtered.shape"
   ]
  },
  {
   "cell_type": "code",
   "execution_count": null,
   "metadata": {
    "collapsed": false
   },
   "outputs": [],
   "source": [
    "filtered = filtered[~((filtered.query_1 == \"\") & (filtered.query_2 == \"\"))]"
   ]
  },
  {
   "cell_type": "code",
   "execution_count": null,
   "metadata": {
    "collapsed": false
   },
   "outputs": [],
   "source": [
    "filtered.shape"
   ]
  },
  {
   "cell_type": "code",
   "execution_count": null,
   "metadata": {
    "collapsed": false
   },
   "outputs": [],
   "source": [
    "filtered.head(10)"
   ]
  },
  {
   "cell_type": "code",
   "execution_count": null,
   "metadata": {
    "collapsed": false
   },
   "outputs": [],
   "source": [
    "filtered._id.nunique()"
   ]
  },
  {
   "cell_type": "code",
   "execution_count": null,
   "metadata": {
    "collapsed": false
   },
   "outputs": [],
   "source": [
    "dfgroup = filtered.groupby('_id')['query_1','query_2'].apply(lambda x: x.sum())\n",
    "dfgroup.head()"
   ]
  },
  {
   "cell_type": "code",
   "execution_count": null,
   "metadata": {
    "collapsed": false
   },
   "outputs": [],
   "source": [
    "filtered[filtered._id=='100217']"
   ]
  },
  {
   "cell_type": "code",
   "execution_count": null,
   "metadata": {
    "collapsed": false
   },
   "outputs": [],
   "source": [
    "#strip white spaces\n",
    "dfgroup['query_1'] = dfgroup['query_1'].str.strip()\n",
    "dfgroup['query_2'] = dfgroup['query_2'].str.strip()\n",
    "dfgroup.head()"
   ]
  },
  {
   "cell_type": "code",
   "execution_count": null,
   "metadata": {
    "collapsed": false
   },
   "outputs": [],
   "source": [
    "dfgroup.ix[dfgroup.query_2 ==\"\", 'query_2'] = None\n",
    "dfgroup.ix[dfgroup.query_1 ==\"\", 'query_1'] = None"
   ]
  },
  {
   "cell_type": "code",
   "execution_count": null,
   "metadata": {
    "collapsed": true
   },
   "outputs": [],
   "source": [
    "dfgroup.reset_index().to_json(path+'/query_data_rel.json',orient='records')"
   ]
  },
  {
   "cell_type": "code",
   "execution_count": null,
   "metadata": {
    "collapsed": true
   },
   "outputs": [],
   "source": []
  },
  {
   "cell_type": "code",
   "execution_count": null,
   "metadata": {
    "collapsed": true
   },
   "outputs": [],
   "source": []
  },
  {
   "cell_type": "code",
   "execution_count": null,
   "metadata": {
    "collapsed": true
   },
   "outputs": [],
   "source": []
  }
 ],
 "metadata": {
  "anaconda-cloud": {},
  "kernelspec": {
   "display_name": "Python [conda root]",
   "language": "python",
   "name": "conda-root-py"
  },
  "language_info": {
   "codemirror_mode": {
    "name": "ipython",
    "version": 3
   },
   "file_extension": ".py",
   "mimetype": "text/x-python",
   "name": "python",
   "nbconvert_exporter": "python",
   "pygments_lexer": "ipython3",
   "version": "3.5.2"
  }
 },
 "nbformat": 4,
 "nbformat_minor": 1
}
